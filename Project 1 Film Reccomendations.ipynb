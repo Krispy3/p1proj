{
 "cells": [
  {
   "cell_type": "markdown",
   "id": "48b140b3",
   "metadata": {},
   "source": [
    "# Microsoft Studios Preliminary Analysis"
   ]
  },
  {
   "cell_type": "markdown",
   "id": "cf55a00e",
   "metadata": {},
   "source": [
    "### A temporal and fiscal examination"
   ]
  },
  {
   "cell_type": "markdown",
   "id": "3037984e",
   "metadata": {},
   "source": [
    "#### Harrison Carter\n",
    "#### Joseph Mata\n",
    "#### 2022-06-02\n",
    "#### NYC-DS-051622"
   ]
  },
  {
   "cell_type": "markdown",
   "id": "468ff268",
   "metadata": {},
   "source": [
    "## Overview\n",
    "\n",
    "The hypothetical Microsoft Studios is starting their streaming platform and looking for any advice they can get. This project uses datasets gathered in 2019 from four different online databases to make specific reccomendations for the upcoming platform and their future endeavors in film."
   ]
  },
  {
   "cell_type": "code",
   "execution_count": 2,
   "id": "487d38ef",
   "metadata": {},
   "outputs": [],
   "source": [
    "#import relevant modules\n",
    "import matplotlib.pyplot as plt\n",
    "import pandas as pd\n",
    "import sqlite3\n",
    "import seaborn as sns\n",
    "import numpy as np\n",
    "import datetime\n",
    "import warnings"
   ]
  },
  {
   "cell_type": "code",
   "execution_count": 3,
   "id": "96b243d8",
   "metadata": {},
   "outputs": [],
   "source": [
    "# Disable pandas warnings for readability\n",
    "warnings.simplefilter(action='ignore', category=FutureWarning)"
   ]
  },
  {
   "cell_type": "code",
   "execution_count": 4,
   "id": "a5e3ece7",
   "metadata": {},
   "outputs": [],
   "source": [
    "# gather datasets\n",
    "bom = pd.read_csv('zippedData/bom.movie_gross.csv.gz')\n",
    "\n",
    "# connect to SQL and save dataframe\n",
    "conn = sqlite3.connect('zippedData/im.db')\n",
    "imdb = pd.read_sql('''\n",
    "    SELECT *\n",
    "    FROM movie_basics; \n",
    "    ''',conn)\n",
    "\n",
    "tmdb = pd.read_csv('zippedData/tmdb.movies.csv.gz')\n",
    "\n",
    "tn = pd.read_csv('zippedData/tn.movie_budgets.csv.gz')"
   ]
  },
  {
   "cell_type": "code",
   "execution_count": 5,
   "id": "85ee0046",
   "metadata": {},
   "outputs": [],
   "source": [
    "# merge datasets\n",
    "bi = bom.merge(imdb, how='inner', left_on = 'title', right_on = 'original_title')\n",
    "bit = bi.merge(tmdb, how='inner', left_on='title', right_on='title')\n",
    "bitt = bit.merge(tn, how='inner', left_on='original_title_x', right_on='movie')"
   ]
  },
  {
   "cell_type": "code",
   "execution_count": 6,
   "id": "cbd1203c",
   "metadata": {},
   "outputs": [],
   "source": [
    "#Drop duplicates\n",
    "bit = bit.drop_duplicates(['primary_title'])\n",
    "bitt = bitt.drop_duplicates(['primary_title'])"
   ]
  },
  {
   "cell_type": "code",
   "execution_count": 7,
   "id": "dc65adf7",
   "metadata": {
    "scrolled": true
   },
   "outputs": [],
   "source": [
    "# remove unwanted characters\n",
    "bitt['foreign_gross'] = bitt['foreign_gross'].str.replace(',', '')\n",
    "bitt['foreign_gross'] = bitt['foreign_gross'].str.replace('$', '')\n",
    "bitt['foreign_gross'] = bitt['foreign_gross'].astype(float)\n",
    "bitt['worldwide_gross'] = bitt['worldwide_gross'].str.replace('$', '')\n",
    "bitt['worldwide_gross'] = bitt['worldwide_gross'].str.replace(',', '')\n",
    "bitt['worldwide_gross'] = bitt['worldwide_gross'].astype(float)\n",
    "bitt['production_budget'] = bitt['production_budget'].str.replace('$', '')\n",
    "bitt['production_budget'] = bitt['production_budget'].str.replace(',', '')\n",
    "bitt['production_budget'] = bitt['production_budget'].astype(float)"
   ]
  },
  {
   "cell_type": "markdown",
   "id": "6a845ce1",
   "metadata": {},
   "source": [
    "Now that the data sets are imported and cleaned, lets inspect the first five elements and the DataFrame information. We see that the merges produced extra columns where redundant column names needed to be differentiated. Many of these can be ignored for our purposes. Looking closer, we notice that the values in release_date_x and release_date_y do not match. Only one of these values can be correct, and a cursory internet search tells us that the release_date_y values are correct, so we will be using those values for release date considerations."
   ]
  },
  {
   "cell_type": "code",
   "execution_count": 8,
   "id": "4ad390be",
   "metadata": {
    "scrolled": true
   },
   "outputs": [
    {
     "data": {
      "text/html": [
       "<div>\n",
       "<style scoped>\n",
       "    .dataframe tbody tr th:only-of-type {\n",
       "        vertical-align: middle;\n",
       "    }\n",
       "\n",
       "    .dataframe tbody tr th {\n",
       "        vertical-align: top;\n",
       "    }\n",
       "\n",
       "    .dataframe thead th {\n",
       "        text-align: right;\n",
       "    }\n",
       "</style>\n",
       "<table border=\"1\" class=\"dataframe\">\n",
       "  <thead>\n",
       "    <tr style=\"text-align: right;\">\n",
       "      <th></th>\n",
       "      <th>title</th>\n",
       "      <th>studio</th>\n",
       "      <th>domestic_gross_x</th>\n",
       "      <th>foreign_gross</th>\n",
       "      <th>year</th>\n",
       "      <th>movie_id</th>\n",
       "      <th>primary_title</th>\n",
       "      <th>original_title_x</th>\n",
       "      <th>start_year</th>\n",
       "      <th>runtime_minutes</th>\n",
       "      <th>...</th>\n",
       "      <th>popularity</th>\n",
       "      <th>release_date_x</th>\n",
       "      <th>vote_average</th>\n",
       "      <th>vote_count</th>\n",
       "      <th>id_y</th>\n",
       "      <th>release_date_y</th>\n",
       "      <th>movie</th>\n",
       "      <th>production_budget</th>\n",
       "      <th>domestic_gross_y</th>\n",
       "      <th>worldwide_gross</th>\n",
       "    </tr>\n",
       "  </thead>\n",
       "  <tbody>\n",
       "    <tr>\n",
       "      <th>0</th>\n",
       "      <td>Toy Story 3</td>\n",
       "      <td>BV</td>\n",
       "      <td>415000000.0</td>\n",
       "      <td>652000000.0</td>\n",
       "      <td>2010</td>\n",
       "      <td>tt0435761</td>\n",
       "      <td>Toy Story 3</td>\n",
       "      <td>Toy Story 3</td>\n",
       "      <td>2010</td>\n",
       "      <td>103.0</td>\n",
       "      <td>...</td>\n",
       "      <td>24.445</td>\n",
       "      <td>2010-06-17</td>\n",
       "      <td>7.7</td>\n",
       "      <td>8340</td>\n",
       "      <td>47</td>\n",
       "      <td>Jun 18, 2010</td>\n",
       "      <td>Toy Story 3</td>\n",
       "      <td>200000000.0</td>\n",
       "      <td>$415,004,880</td>\n",
       "      <td>1.068880e+09</td>\n",
       "    </tr>\n",
       "    <tr>\n",
       "      <th>1</th>\n",
       "      <td>Inception</td>\n",
       "      <td>WB</td>\n",
       "      <td>292600000.0</td>\n",
       "      <td>535700000.0</td>\n",
       "      <td>2010</td>\n",
       "      <td>tt1375666</td>\n",
       "      <td>Inception</td>\n",
       "      <td>Inception</td>\n",
       "      <td>2010</td>\n",
       "      <td>148.0</td>\n",
       "      <td>...</td>\n",
       "      <td>27.920</td>\n",
       "      <td>2010-07-16</td>\n",
       "      <td>8.3</td>\n",
       "      <td>22186</td>\n",
       "      <td>38</td>\n",
       "      <td>Jul 16, 2010</td>\n",
       "      <td>Inception</td>\n",
       "      <td>160000000.0</td>\n",
       "      <td>$292,576,195</td>\n",
       "      <td>8.355246e+08</td>\n",
       "    </tr>\n",
       "    <tr>\n",
       "      <th>2</th>\n",
       "      <td>Shrek Forever After</td>\n",
       "      <td>P/DW</td>\n",
       "      <td>238700000.0</td>\n",
       "      <td>513900000.0</td>\n",
       "      <td>2010</td>\n",
       "      <td>tt0892791</td>\n",
       "      <td>Shrek Forever After</td>\n",
       "      <td>Shrek Forever After</td>\n",
       "      <td>2010</td>\n",
       "      <td>93.0</td>\n",
       "      <td>...</td>\n",
       "      <td>15.041</td>\n",
       "      <td>2010-05-16</td>\n",
       "      <td>6.1</td>\n",
       "      <td>3843</td>\n",
       "      <td>27</td>\n",
       "      <td>May 21, 2010</td>\n",
       "      <td>Shrek Forever After</td>\n",
       "      <td>165000000.0</td>\n",
       "      <td>$238,736,787</td>\n",
       "      <td>7.562447e+08</td>\n",
       "    </tr>\n",
       "    <tr>\n",
       "      <th>3</th>\n",
       "      <td>The Twilight Saga: Eclipse</td>\n",
       "      <td>Sum.</td>\n",
       "      <td>300500000.0</td>\n",
       "      <td>398000000.0</td>\n",
       "      <td>2010</td>\n",
       "      <td>tt1325004</td>\n",
       "      <td>The Twilight Saga: Eclipse</td>\n",
       "      <td>The Twilight Saga: Eclipse</td>\n",
       "      <td>2010</td>\n",
       "      <td>124.0</td>\n",
       "      <td>...</td>\n",
       "      <td>20.340</td>\n",
       "      <td>2010-06-23</td>\n",
       "      <td>6.0</td>\n",
       "      <td>4909</td>\n",
       "      <td>53</td>\n",
       "      <td>Jun 30, 2010</td>\n",
       "      <td>The Twilight Saga: Eclipse</td>\n",
       "      <td>68000000.0</td>\n",
       "      <td>$300,531,751</td>\n",
       "      <td>7.061028e+08</td>\n",
       "    </tr>\n",
       "    <tr>\n",
       "      <th>4</th>\n",
       "      <td>Iron Man 2</td>\n",
       "      <td>Par.</td>\n",
       "      <td>312400000.0</td>\n",
       "      <td>311500000.0</td>\n",
       "      <td>2010</td>\n",
       "      <td>tt1228705</td>\n",
       "      <td>Iron Man 2</td>\n",
       "      <td>Iron Man 2</td>\n",
       "      <td>2010</td>\n",
       "      <td>124.0</td>\n",
       "      <td>...</td>\n",
       "      <td>28.515</td>\n",
       "      <td>2010-05-07</td>\n",
       "      <td>6.8</td>\n",
       "      <td>12368</td>\n",
       "      <td>15</td>\n",
       "      <td>May 7, 2010</td>\n",
       "      <td>Iron Man 2</td>\n",
       "      <td>170000000.0</td>\n",
       "      <td>$312,433,331</td>\n",
       "      <td>6.211564e+08</td>\n",
       "    </tr>\n",
       "  </tbody>\n",
       "</table>\n",
       "<p>5 rows × 26 columns</p>\n",
       "</div>"
      ],
      "text/plain": [
       "                        title studio  domestic_gross_x  foreign_gross  year  \\\n",
       "0                 Toy Story 3     BV       415000000.0    652000000.0  2010   \n",
       "1                   Inception     WB       292600000.0    535700000.0  2010   \n",
       "2         Shrek Forever After   P/DW       238700000.0    513900000.0  2010   \n",
       "3  The Twilight Saga: Eclipse   Sum.       300500000.0    398000000.0  2010   \n",
       "4                  Iron Man 2   Par.       312400000.0    311500000.0  2010   \n",
       "\n",
       "    movie_id               primary_title            original_title_x  \\\n",
       "0  tt0435761                 Toy Story 3                 Toy Story 3   \n",
       "1  tt1375666                   Inception                   Inception   \n",
       "2  tt0892791         Shrek Forever After         Shrek Forever After   \n",
       "3  tt1325004  The Twilight Saga: Eclipse  The Twilight Saga: Eclipse   \n",
       "4  tt1228705                  Iron Man 2                  Iron Man 2   \n",
       "\n",
       "   start_year  runtime_minutes  ... popularity  release_date_x vote_average  \\\n",
       "0        2010            103.0  ...     24.445      2010-06-17          7.7   \n",
       "1        2010            148.0  ...     27.920      2010-07-16          8.3   \n",
       "2        2010             93.0  ...     15.041      2010-05-16          6.1   \n",
       "3        2010            124.0  ...     20.340      2010-06-23          6.0   \n",
       "4        2010            124.0  ...     28.515      2010-05-07          6.8   \n",
       "\n",
       "   vote_count id_y release_date_y                       movie  \\\n",
       "0        8340   47   Jun 18, 2010                 Toy Story 3   \n",
       "1       22186   38   Jul 16, 2010                   Inception   \n",
       "2        3843   27   May 21, 2010         Shrek Forever After   \n",
       "3        4909   53   Jun 30, 2010  The Twilight Saga: Eclipse   \n",
       "4       12368   15    May 7, 2010                  Iron Man 2   \n",
       "\n",
       "  production_budget  domestic_gross_y  worldwide_gross  \n",
       "0       200000000.0      $415,004,880     1.068880e+09  \n",
       "1       160000000.0      $292,576,195     8.355246e+08  \n",
       "2       165000000.0      $238,736,787     7.562447e+08  \n",
       "3        68000000.0      $300,531,751     7.061028e+08  \n",
       "4       170000000.0      $312,433,331     6.211564e+08  \n",
       "\n",
       "[5 rows x 26 columns]"
      ]
     },
     "execution_count": 8,
     "metadata": {},
     "output_type": "execute_result"
    }
   ],
   "source": [
    "bitt.head()"
   ]
  },
  {
   "cell_type": "code",
   "execution_count": 9,
   "id": "c1555ff5",
   "metadata": {
    "scrolled": true
   },
   "outputs": [
    {
     "name": "stdout",
     "output_type": "stream",
     "text": [
      "<class 'pandas.core.frame.DataFrame'>\n",
      "Int64Index: 1143 entries, 0 to 1997\n",
      "Data columns (total 26 columns):\n",
      " #   Column             Non-Null Count  Dtype  \n",
      "---  ------             --------------  -----  \n",
      " 0   title              1143 non-null   object \n",
      " 1   studio             1143 non-null   object \n",
      " 2   domestic_gross_x   1142 non-null   float64\n",
      " 3   foreign_gross      996 non-null    float64\n",
      " 4   year               1143 non-null   int64  \n",
      " 5   movie_id           1143 non-null   object \n",
      " 6   primary_title      1143 non-null   object \n",
      " 7   original_title_x   1143 non-null   object \n",
      " 8   start_year         1143 non-null   int64  \n",
      " 9   runtime_minutes    1122 non-null   float64\n",
      " 10  genres             1138 non-null   object \n",
      " 11  Unnamed: 0         1143 non-null   int64  \n",
      " 12  genre_ids          1143 non-null   object \n",
      " 13  id_x               1143 non-null   int64  \n",
      " 14  original_language  1143 non-null   object \n",
      " 15  original_title_y   1143 non-null   object \n",
      " 16  popularity         1143 non-null   float64\n",
      " 17  release_date_x     1143 non-null   object \n",
      " 18  vote_average       1143 non-null   float64\n",
      " 19  vote_count         1143 non-null   int64  \n",
      " 20  id_y               1143 non-null   int64  \n",
      " 21  release_date_y     1143 non-null   object \n",
      " 22  movie              1143 non-null   object \n",
      " 23  production_budget  1143 non-null   float64\n",
      " 24  domestic_gross_y   1143 non-null   object \n",
      " 25  worldwide_gross    1143 non-null   float64\n",
      "dtypes: float64(7), int64(6), object(13)\n",
      "memory usage: 241.1+ KB\n"
     ]
    }
   ],
   "source": [
    "bitt.info()"
   ]
  },
  {
   "cell_type": "markdown",
   "id": "73c89e37",
   "metadata": {},
   "source": [
    "What kind of movie should we make? Lets take a look at how much money the major genres typically make, and while we're at it, lets look at how much they cost."
   ]
  },
  {
   "cell_type": "code",
   "execution_count": 10,
   "id": "59cadc86",
   "metadata": {},
   "outputs": [],
   "source": [
    "# Find the average production budget and worldwide gross for each major genre\n",
    "com = bitt[bitt['genres'].str.contains('Comedy')==True]\n",
    "com_bud = com['production_budget'].mean()\n",
    "com_g = com['worldwide_gross'].mean()\n",
    "\n",
    "dra = bitt[bitt['genres'].str.contains('Drama')==True]\n",
    "dra_bud = dra['production_budget'].mean()\n",
    "dra_g = dra['worldwide_gross'].mean()\n",
    "\n",
    "act = bitt[bitt['genres'].str.contains('Action')==True]\n",
    "act_bud = act['production_budget'].mean()\n",
    "act_g = act['worldwide_gross'].mean()\n",
    "\n",
    "sci = bitt[bitt['genres'].str.contains('Sci')==True]\n",
    "sci_bud = sci['production_budget'].mean()\n",
    "sci_g = com['worldwide_gross'].mean()\n",
    "\n",
    "ani = bitt[bitt['genres'].str.contains('Animation')==True]\n",
    "ani_bud = ani['production_budget'].mean()\n",
    "ani_g = ani['worldwide_gross'].mean()\n",
    "\n",
    "rom = bitt[bitt['genres'].str.contains('Romance')==True]\n",
    "rom_bud = rom['production_budget'].mean()\n",
    "rom_g = rom['worldwide_gross'].mean()\n",
    "\n",
    "doc = bitt[bitt['genres'].str.contains('Documentary')==True]\n",
    "doc_bud = doc['production_budget'].mean()\n",
    "doc_g = doc['worldwide_gross'].mean()\n",
    "\n",
    "wes = bitt[bitt['genres'].str.contains('Western')==True]\n",
    "wes_bud = wes['production_budget'].mean()\n",
    "wes_g = wes['worldwide_gross'].mean()\n",
    "\n",
    "hor = bitt[bitt['genres'].str.contains('Horror')==True]\n",
    "hor_bud = hor['production_budget'].mean()\n",
    "hor_g = hor['worldwide_gross'].mean()\n",
    "\n",
    "adv = bitt[bitt['genres'].str.contains('Adventure')==True]\n",
    "adv_bud = adv['production_budget'].mean()\n",
    "adv_g = adv['worldwide_gross'].mean()\n",
    "\n",
    "mys = bitt[bitt['genres'].str.contains('Mystery')==True]\n",
    "mys_bud = mys['production_budget'].mean()\n",
    "mys_g = mys['worldwide_gross'].mean()\n",
    "\n",
    "# Initialize list of means of genres in question\n",
    "gen = ['Comedy','Drama','Action','Sci-Fi','Animation','Romance','Documentary','Western','Horror','Adventure','Mystery']\n",
    "gen_bud = [com_bud,dra_bud,act_bud,sci_bud,ani_bud,rom_bud,doc_bud,wes_bud,hor_bud,adv_bud,mys_bud]\n",
    "gen_g = [com_g,dra_g,act_g,sci_g,ani_g,rom_g,doc_g,wes_g,hor_g,adv_g,mys_g]"
   ]
  },
  {
   "cell_type": "code",
   "execution_count": 11,
   "id": "12593c76",
   "metadata": {},
   "outputs": [
    {
     "name": "stdout",
     "output_type": "stream",
     "text": [
      "          Genre        Budget  Worldwide Gross\n",
      "0        Comedy  4.266369e+07     1.482201e+08\n",
      "1         Drama  2.828507e+07     8.162471e+07\n",
      "2        Action  8.643283e+07     2.672391e+08\n",
      "3        Sci-Fi  9.780477e+07     1.482201e+08\n",
      "4     Animation  1.029217e+08     3.942728e+08\n",
      "5       Romance  2.176330e+07     7.090539e+07\n",
      "6   Documentary  1.233333e+07     5.888093e+07\n",
      "7       Western  6.243750e+07     1.232272e+08\n",
      "8        Horror  2.055650e+07     8.425086e+07\n",
      "9     Adventure  1.108069e+08     3.723460e+08\n",
      "10      Mystery  2.627189e+07     1.027942e+08\n"
     ]
    }
   ],
   "source": [
    "# Create dataframe containing average budget and average worldwide gross per genre\n",
    "genred = {'Genre':  gen,\n",
    "        'Budget': gen_bud,\n",
    "        'Worldwide Gross': gen_g}\n",
    "\n",
    "gendf = pd.DataFrame(genred)\n",
    "\n",
    "print (gendf)"
   ]
  },
  {
   "cell_type": "code",
   "execution_count": 12,
   "id": "b7b8c1e4",
   "metadata": {
    "scrolled": true
   },
   "outputs": [
    {
     "data": {
      "text/html": [
       "<div>\n",
       "<style scoped>\n",
       "    .dataframe tbody tr th:only-of-type {\n",
       "        vertical-align: middle;\n",
       "    }\n",
       "\n",
       "    .dataframe tbody tr th {\n",
       "        vertical-align: top;\n",
       "    }\n",
       "\n",
       "    .dataframe thead th {\n",
       "        text-align: right;\n",
       "    }\n",
       "</style>\n",
       "<table border=\"1\" class=\"dataframe\">\n",
       "  <thead>\n",
       "    <tr style=\"text-align: right;\">\n",
       "      <th></th>\n",
       "      <th>Genre</th>\n",
       "      <th>variable</th>\n",
       "      <th>value</th>\n",
       "    </tr>\n",
       "  </thead>\n",
       "  <tbody>\n",
       "    <tr>\n",
       "      <th>0</th>\n",
       "      <td>Comedy</td>\n",
       "      <td>Budget</td>\n",
       "      <td>4.266369e+07</td>\n",
       "    </tr>\n",
       "    <tr>\n",
       "      <th>1</th>\n",
       "      <td>Drama</td>\n",
       "      <td>Budget</td>\n",
       "      <td>2.828507e+07</td>\n",
       "    </tr>\n",
       "    <tr>\n",
       "      <th>2</th>\n",
       "      <td>Action</td>\n",
       "      <td>Budget</td>\n",
       "      <td>8.643283e+07</td>\n",
       "    </tr>\n",
       "    <tr>\n",
       "      <th>3</th>\n",
       "      <td>Sci-Fi</td>\n",
       "      <td>Budget</td>\n",
       "      <td>9.780477e+07</td>\n",
       "    </tr>\n",
       "    <tr>\n",
       "      <th>4</th>\n",
       "      <td>Animation</td>\n",
       "      <td>Budget</td>\n",
       "      <td>1.029217e+08</td>\n",
       "    </tr>\n",
       "    <tr>\n",
       "      <th>5</th>\n",
       "      <td>Romance</td>\n",
       "      <td>Budget</td>\n",
       "      <td>2.176330e+07</td>\n",
       "    </tr>\n",
       "    <tr>\n",
       "      <th>6</th>\n",
       "      <td>Documentary</td>\n",
       "      <td>Budget</td>\n",
       "      <td>1.233333e+07</td>\n",
       "    </tr>\n",
       "    <tr>\n",
       "      <th>7</th>\n",
       "      <td>Western</td>\n",
       "      <td>Budget</td>\n",
       "      <td>6.243750e+07</td>\n",
       "    </tr>\n",
       "    <tr>\n",
       "      <th>8</th>\n",
       "      <td>Horror</td>\n",
       "      <td>Budget</td>\n",
       "      <td>2.055650e+07</td>\n",
       "    </tr>\n",
       "    <tr>\n",
       "      <th>9</th>\n",
       "      <td>Adventure</td>\n",
       "      <td>Budget</td>\n",
       "      <td>1.108069e+08</td>\n",
       "    </tr>\n",
       "    <tr>\n",
       "      <th>10</th>\n",
       "      <td>Mystery</td>\n",
       "      <td>Budget</td>\n",
       "      <td>2.627189e+07</td>\n",
       "    </tr>\n",
       "    <tr>\n",
       "      <th>11</th>\n",
       "      <td>Comedy</td>\n",
       "      <td>Worldwide Gross</td>\n",
       "      <td>1.482201e+08</td>\n",
       "    </tr>\n",
       "    <tr>\n",
       "      <th>12</th>\n",
       "      <td>Drama</td>\n",
       "      <td>Worldwide Gross</td>\n",
       "      <td>8.162471e+07</td>\n",
       "    </tr>\n",
       "    <tr>\n",
       "      <th>13</th>\n",
       "      <td>Action</td>\n",
       "      <td>Worldwide Gross</td>\n",
       "      <td>2.672391e+08</td>\n",
       "    </tr>\n",
       "    <tr>\n",
       "      <th>14</th>\n",
       "      <td>Sci-Fi</td>\n",
       "      <td>Worldwide Gross</td>\n",
       "      <td>1.482201e+08</td>\n",
       "    </tr>\n",
       "    <tr>\n",
       "      <th>15</th>\n",
       "      <td>Animation</td>\n",
       "      <td>Worldwide Gross</td>\n",
       "      <td>3.942728e+08</td>\n",
       "    </tr>\n",
       "    <tr>\n",
       "      <th>16</th>\n",
       "      <td>Romance</td>\n",
       "      <td>Worldwide Gross</td>\n",
       "      <td>7.090539e+07</td>\n",
       "    </tr>\n",
       "    <tr>\n",
       "      <th>17</th>\n",
       "      <td>Documentary</td>\n",
       "      <td>Worldwide Gross</td>\n",
       "      <td>5.888093e+07</td>\n",
       "    </tr>\n",
       "    <tr>\n",
       "      <th>18</th>\n",
       "      <td>Western</td>\n",
       "      <td>Worldwide Gross</td>\n",
       "      <td>1.232272e+08</td>\n",
       "    </tr>\n",
       "    <tr>\n",
       "      <th>19</th>\n",
       "      <td>Horror</td>\n",
       "      <td>Worldwide Gross</td>\n",
       "      <td>8.425086e+07</td>\n",
       "    </tr>\n",
       "    <tr>\n",
       "      <th>20</th>\n",
       "      <td>Adventure</td>\n",
       "      <td>Worldwide Gross</td>\n",
       "      <td>3.723460e+08</td>\n",
       "    </tr>\n",
       "    <tr>\n",
       "      <th>21</th>\n",
       "      <td>Mystery</td>\n",
       "      <td>Worldwide Gross</td>\n",
       "      <td>1.027942e+08</td>\n",
       "    </tr>\n",
       "  </tbody>\n",
       "</table>\n",
       "</div>"
      ],
      "text/plain": [
       "          Genre         variable         value\n",
       "0        Comedy           Budget  4.266369e+07\n",
       "1         Drama           Budget  2.828507e+07\n",
       "2        Action           Budget  8.643283e+07\n",
       "3        Sci-Fi           Budget  9.780477e+07\n",
       "4     Animation           Budget  1.029217e+08\n",
       "5       Romance           Budget  2.176330e+07\n",
       "6   Documentary           Budget  1.233333e+07\n",
       "7       Western           Budget  6.243750e+07\n",
       "8        Horror           Budget  2.055650e+07\n",
       "9     Adventure           Budget  1.108069e+08\n",
       "10      Mystery           Budget  2.627189e+07\n",
       "11       Comedy  Worldwide Gross  1.482201e+08\n",
       "12        Drama  Worldwide Gross  8.162471e+07\n",
       "13       Action  Worldwide Gross  2.672391e+08\n",
       "14       Sci-Fi  Worldwide Gross  1.482201e+08\n",
       "15    Animation  Worldwide Gross  3.942728e+08\n",
       "16      Romance  Worldwide Gross  7.090539e+07\n",
       "17  Documentary  Worldwide Gross  5.888093e+07\n",
       "18      Western  Worldwide Gross  1.232272e+08\n",
       "19       Horror  Worldwide Gross  8.425086e+07\n",
       "20    Adventure  Worldwide Gross  3.723460e+08\n",
       "21      Mystery  Worldwide Gross  1.027942e+08"
      ]
     },
     "execution_count": 12,
     "metadata": {},
     "output_type": "execute_result"
    }
   ],
   "source": [
    "# Melt dataframe to correct format for catplot\n",
    "gendfm = pd.melt(gendf,id_vars='Genre')\n",
    "gendfm"
   ]
  },
  {
   "cell_type": "code",
   "execution_count": 13,
   "id": "095a5f69",
   "metadata": {
    "scrolled": false
   },
   "outputs": [
    {
     "data": {
      "image/png": "[encoded data removed]",
      "text/plain": [
       "<Figure size 551.375x432 with 1 Axes>"
      ]
     },
     "metadata": {
      "needs_background": "light"
     },
     "output_type": "display_data"
    }
   ],
   "source": [
    "g = sns.catplot(\n",
    "    data=gendfm, kind=\"bar\",\n",
    "    x=\"Genre\", y=\"value\", hue=\"variable\",\n",
    "    ci=\"sd\", palette=\"dark\", alpha=.6, height=6\n",
    ")\n",
    "g.set_axis_labels(\"Genre\", \"Dollars (US)\")\n",
    "plt.xticks(rotation=45)\n",
    "plt.title('Genre Delineated Fiscal Prospects')\n",
    "g.legend.set_title(\"\")"
   ]
  },
  {
   "cell_type": "markdown",
   "id": "bf2386bf",
   "metadata": {},
   "source": [
    "Clearly, animated films make far and away the most money on average compared to other genres. They also are on the more expensive side to make, but the profit margin is still visibly the largest of all categories. Looks like we have to spend money to make money, as per the saying.\n",
    "\n",
    "Going forward, lets concentrate on animated films so our descriptive statistics best match the advisory in our conclusion."
   ]
  },
  {
   "cell_type": "code",
   "execution_count": 14,
   "id": "4032a6f6",
   "metadata": {
    "scrolled": true
   },
   "outputs": [],
   "source": [
    "#Isolate animated films\n",
    "anima = bitt[bitt['genres'].str.contains('Animation')==True]"
   ]
  },
  {
   "cell_type": "code",
   "execution_count": 15,
   "id": "e9aa95b2",
   "metadata": {
    "scrolled": false
   },
   "outputs": [
    {
     "data": {
      "text/plain": [
       "''"
      ]
     },
     "execution_count": 15,
     "metadata": {},
     "output_type": "execute_result"
    },
    {
     "data": {
      "image/png": "[encoded data removed]",
      "text/plain": [
       "<Figure size 432x288 with 1 Axes>"
      ]
     },
     "metadata": {
      "needs_background": "light"
     },
     "output_type": "display_data"
    }
   ],
   "source": [
    "p = sns.boxplot(x=anima['start_year'],y=anima['runtime_minutes'])\n",
    "\n",
    "plt.title('Duration Variability in Animated Films',fontsize=20)\n",
    "p.set_xlabel('Year',fontsize=20)\n",
    "p.set_ylabel('Runtime (minutes)',fontsize=20)\n",
    ";"
   ]
  },
  {
   "cell_type": "code",
   "execution_count": 31,
   "id": "7923c8cc",
   "metadata": {
    "scrolled": false
   },
   "outputs": [
    {
     "name": "stderr",
     "output_type": "stream",
     "text": [
      "C:\\Users\\harri\\AppData\\Local\\Temp\\ipykernel_7312\\3485826538.py:2: SettingWithCopyWarning: \n",
      "A value is trying to be set on a copy of a slice from a DataFrame.\n",
      "Try using .loc[row_indexer,col_indexer] = value instead\n",
      "\n",
      "See the caveats in the documentation: https://pandas.pydata.org/pandas-docs/stable/user_guide/indexing.html#returning-a-view-versus-a-copy\n",
      "  anima['release_date_x'] = pd.to_datetime(anima['release_date_x'])\n"
     ]
    }
   ],
   "source": [
    "# Change release date to datetime format to work with month\n",
    "anima['release_date_x'] = pd.to_datetime(anima['release_date_x'])"
   ]
  },
  {
   "cell_type": "code",
   "execution_count": 19,
   "id": "c28e8679",
   "metadata": {
    "scrolled": false
   },
   "outputs": [
    {
     "name": "stderr",
     "output_type": "stream",
     "text": [
      "C:\\Users\\harri\\AppData\\Local\\Temp\\ipykernel_7312\\2525340311.py:1: SettingWithCopyWarning: \n",
      "A value is trying to be set on a copy of a slice from a DataFrame.\n",
      "Try using .loc[row_indexer,col_indexer] = value instead\n",
      "\n",
      "See the caveats in the documentation: https://pandas.pydata.org/pandas-docs/stable/user_guide/indexing.html#returning-a-view-versus-a-copy\n",
      "  anima['month'] = anima['release_date_x'].dt.month\n"
     ]
    }
   ],
   "source": [
    "# Isolate month\n",
    "anima['month'] = anima['release_date_x'].dt.month"
   ]
  },
  {
   "cell_type": "markdown",
   "id": "3feb2bd9",
   "metadata": {},
   "source": [
    "Here we determine the best month to release an animated film"
   ]
  },
  {
   "cell_type": "code",
   "execution_count": 21,
   "id": "d9590344",
   "metadata": {
    "scrolled": true
   },
   "outputs": [
    {
     "name": "stderr",
     "output_type": "stream",
     "text": [
      "C:\\Users\\harri\\AppData\\Local\\Temp\\ipykernel_7312\\3990228335.py:4: UserWarning: FixedFormatter should only be used together with FixedLocator\n",
      "  ax.set_xticklabels(months)\n"
     ]
    },
    {
     "data": {
      "image/png": "[encoded data removed]",
      "text/plain": [
       "<Figure size 432x288 with 1 Axes>"
      ]
     },
     "metadata": {
      "needs_background": "light"
     },
     "output_type": "display_data"
    }
   ],
   "source": [
    "fig, ax = plt.subplots()\n",
    "plt.scatter(anima['month'],anima['worldwide_gross'])\n",
    "months = ['Jan', 'Feb', 'Apr', 'Jun',  'Aug', 'Oct', 'Dec', 'Jan']\n",
    "ax.set_xticklabels(months)\n",
    "ax.set_title('Animated Film Sales by Month', fontsize=20)\n",
    "ax.set_xlabel('Month')\n",
    "ax.set_ylabel('Gross Profit')\n",
    "ax.set_yticks([x for x in np.arange(0,1400000000,100000000)])\n",
    "ax.set_yticklabels(['$'+str(x)+'M' for x in np.arange(0,1400,100)]);"
   ]
  },
  {
   "cell_type": "markdown",
   "id": "0a910ca3",
   "metadata": {},
   "source": [
    "Here we determine the most profitable studio to hire"
   ]
  },
  {
   "cell_type": "code",
   "execution_count": 33,
   "id": "b2c7ed14",
   "metadata": {},
   "outputs": [
    {
     "data": {
      "text/plain": [
       "''"
      ]
     },
     "execution_count": 33,
     "metadata": {},
     "output_type": "execute_result"
    },
    {
     "data": {
      "image/png": "[encoded data removed]",
      "text/plain": [
       "<Figure size 432x288 with 1 Axes>"
      ]
     },
     "metadata": {
      "needs_background": "light"
     },
     "output_type": "display_data"
    }
   ],
   "source": [
    "p = sns.boxplot(x=anima['studio'],y=anima['worldwide_gross'])\n",
    "\n",
    "plt.title('Studio Profitability',fontsize=20)\n",
    "p.set_xlabel('Studio',fontsize=20)\n",
    "p.set_ylabel('Worldwide Gross',fontsize=20)\n",
    "p.set_yticks([x for x in np.arange(0,1400000000,100000000)])\n",
    "p.set_yticklabels(['$'+str(x)+'M' for x in np.arange(0,1400,100)])\n",
    "plt.xticks(rotation=45)\n",
    ";"
   ]
  }
 ],
 "metadata": {
  "kernelspec": {
   "display_name": "Python 3 (ipykernel)",
   "language": "python",
   "name": "python3"
  },
  "language_info": {
   "codemirror_mode": {
    "name": "ipython",
    "version": 3
   },
   "file_extension": ".py",
   "mimetype": "text/x-python",
   "name": "python",
   "nbconvert_exporter": "python",
   "pygments_lexer": "ipython3",
   "version": "3.9.12"
  }
 },
 "nbformat": 4,
 "nbformat_minor": 5
}
